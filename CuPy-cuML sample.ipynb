{
 "cells": [
  {
   "cell_type": "code",
   "execution_count": 1,
   "metadata": {},
   "outputs": [],
   "source": [
    "import cupy\n",
    "import cudf\n",
    "import cuml\n",
    "\n",
    "import numpy as np\n",
    "import matplotlib.pyplot as plt"
   ]
  },
  {
   "cell_type": "code",
   "execution_count": 2,
   "metadata": {},
   "outputs": [],
   "source": [
    "def draw(X, n_clusters, centers, pred):\n",
    "    plt.clf()\n",
    "    plt.cla()\n",
    "    xp = cupy.get_array_module(X)\n",
    "    for i in range(n_clusters):\n",
    "        labels = X[pred == i]\n",
    "        if xp == cupy:\n",
    "            labels = labels.get()\n",
    "        plt.scatter(labels[:, 0], labels[:, 1], c=np.random.rand(3))\n",
    "    if xp == cupy:\n",
    "        centers = centers.get()\n",
    "    plt.scatter(centers[:, 0], centers[:, 1], s=120, marker='s',\n",
    "                facecolors='y', edgecolors='k')"
   ]
  },
  {
   "cell_type": "code",
   "execution_count": 3,
   "metadata": {},
   "outputs": [],
   "source": [
    "# Input data preparation\n",
    "n_clusters = 2\n",
    "num = 5000000\n",
    "\n",
    "samples = np.random.randn(num, 2)\n",
    "X_train = np.r_[samples + 1, samples - 1]"
   ]
  },
  {
   "cell_type": "code",
   "execution_count": 4,
   "metadata": {},
   "outputs": [
    {
     "name": "stderr",
     "output_type": "stream",
     "text": [
      "/home/shunta/.pyenv/versions/miniconda3-4.3.30/lib/python3.6/site-packages/cudf-0.7.1+62.g68799376-py3.6-linux-x86_64.egg/cudf/io/dlpack.py:36: UserWarning: WARNING: cuDF from_dlpack() assumes column-major (Fortran order) input. If the input tensor is row-major, transpose it before passing it to this function.\n",
      "  res, valids = cpp_dlpack.from_dlpack(pycapsule_obj)\n"
     ]
    }
   ],
   "source": [
    "# Create CuPy ndarray\n",
    "X_cp = cupy.asarray(X_train, dtype=np.float, order='F')\n",
    "\n",
    "# Convert to cuDF DataFrame\n",
    "X_df = cudf.DataFrame(\n",
    "    [(str(i), cudf.from_dlpack(xi.toDlpack()))\n",
    "     for i, xi in enumerate(X_cp.T)])"
   ]
  },
  {
   "cell_type": "code",
   "execution_count": 5,
   "metadata": {},
   "outputs": [],
   "source": [
    "from cuml import KMeans\n",
    "\n",
    "kmeans = KMeans(n_clusters=2, max_iter=10, n_gpu=1)\n",
    "pred = kmeans.fit_predict(X_df).to_array()\n",
    "centers = kmeans.cluster_centers_.as_matrix()"
   ]
  },
  {
   "cell_type": "code",
   "execution_count": 6,
   "metadata": {},
   "outputs": [
    {
     "name": "stderr",
     "output_type": "stream",
     "text": [
      "WARNING:'c' argument looks like a single numeric RGB or RGBA sequence, which should be avoided as value-mapping will have precedence in case its length matches with 'x' & 'y'.  Please use a 2-D array with a single row if you really want to specify the same RGB or RGBA value for all points.\n",
      "WARNING:'c' argument looks like a single numeric RGB or RGBA sequence, which should be avoided as value-mapping will have precedence in case its length matches with 'x' & 'y'.  Please use a 2-D array with a single row if you really want to specify the same RGB or RGBA value for all points.\n"
     ]
    },
    {
     "data": {
      "image/png": "[encoded data removed]",
      "text/plain": [
       "<Figure size 432x288 with 1 Axes>"
      ]
     },
     "metadata": {
      "needs_background": "light"
     },
     "output_type": "display_data"
    }
   ],
   "source": [
    "index = np.random.choice(10000000, 300, replace=False)\n",
    "draw(X_train[index], n_clusters, centers, pred[index])"
   ]
  }
 ],
 "metadata": {
  "kernelspec": {
   "display_name": "Python 3",
   "language": "python",
   "name": "python3"
  },
  "language_info": {
   "codemirror_mode": {
    "name": "ipython",
    "version": 3
   },
   "file_extension": ".py",
   "mimetype": "text/x-python",
   "name": "python",
   "nbconvert_exporter": "python",
   "pygments_lexer": "ipython3",
   "version": "3.6.8"
  }
 },
 "nbformat": 4,
 "nbformat_minor": 2
}
